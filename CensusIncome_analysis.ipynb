{
  "nbformat": 4,
  "nbformat_minor": 0,
  "metadata": {
    "colab": {
      "name": "CensusIncome_analysis.ipynb",
      "provenance": [],
      "collapsed_sections": [],
      "toc_visible": true,
      "authorship_tag": "ABX9TyMMfiz84zzMNJ9dnH55sjWW",
      "include_colab_link": true
    },
    "kernelspec": {
      "name": "python3",
      "display_name": "Python 3"
    }
  },
  "cells": [
    {
      "cell_type": "markdown",
      "metadata": {
        "id": "view-in-github",
        "colab_type": "text"
      },
      "source": [
        "<a href=\"https://colab.research.google.com/github/SimoneDutto/AdultIncomeEDA/blob/master/CensusIncome_analysis.ipynb\" target=\"_parent\"><img src=\"https://colab.research.google.com/assets/colab-badge.svg\" alt=\"Open In Colab\"/></a>"
      ]
    },
    {
      "cell_type": "markdown",
      "metadata": {
        "id": "X_5x7djLvNrv",
        "colab_type": "text"
      },
      "source": [
        "# Introduction\n",
        "dataset: https://archive.ics.uci.edu/ml/datasets/Census+Income "
      ]
    },
    {
      "cell_type": "code",
      "metadata": {
        "id": "kloLBxB6u_rG",
        "colab_type": "code",
        "colab": {
          "base_uri": "https://localhost:8080/",
          "height": 146
        },
        "outputId": "b8ee78bc-6da3-43e1-930d-13a9066119a6"
      },
      "source": [
        "from google.colab import drive\n",
        "#link to download the dataset\n",
        "#\n",
        "\n",
        "drive.mount('/content/gdrive')\n",
        "%cd /content/gdrive/My Drive/MML/"
      ],
      "execution_count": 1,
      "outputs": [
        {
          "output_type": "stream",
          "text": [
            "Go to this URL in a browser: https://accounts.google.com/o/oauth2/auth?client_id=947318989803-6bn6qk8qdgf4n4g3pfee6491hc0brc4i.apps.googleusercontent.com&redirect_uri=urn%3aietf%3awg%3aoauth%3a2.0%3aoob&response_type=code&scope=email%20https%3a%2f%2fwww.googleapis.com%2fauth%2fdocs.test%20https%3a%2f%2fwww.googleapis.com%2fauth%2fdrive%20https%3a%2f%2fwww.googleapis.com%2fauth%2fdrive.photos.readonly%20https%3a%2f%2fwww.googleapis.com%2fauth%2fpeopleapi.readonly\n",
            "\n",
            "Enter your authorization code:\n",
            "··········\n",
            "Mounted at /content/gdrive\n",
            "/content/gdrive/My Drive/MML\n"
          ],
          "name": "stdout"
        }
      ]
    },
    {
      "cell_type": "code",
      "metadata": {
        "id": "EY2aBc-8FZ1q",
        "colab_type": "code",
        "colab": {}
      },
      "source": [
        "import pandas as pd\n",
        "import numpy as np\n",
        "import matplotlib.pyplot as plt\n",
        "import seaborn as sns\n",
        "from sklearn.preprocessing import LabelEncoder\n",
        "\n",
        "dataset = pd.read_csv(\"adult.data\", header=None, skipinitialspace=True, delimiter=',')\n",
        "dataset_t = pd.read_csv(\"adult.test\", header=None, skipinitialspace=True, delimiter=',', skiprows=1)\n",
        "\n",
        "numeric_features = ['age','fnlwgt','education.num','capital.gain','capital.loss','hours.per.week','income']\n",
        "# Identify Categorical features\n",
        "cate_features = ['workclass','education','marital.status', 'occupation', 'relationship', 'race', 'sex', 'native']\n",
        "dataset.columns = ['age','workclass','fnlwgt','education','education.num','marital.status', 'occupation','relationship', 'race', \n",
        "                   'sex', 'capital.gain','capital.loss', 'hours.per.week', 'native', 'income']\n",
        "dataset_t.columns = ['age','workclass','fnlwgt','education','education.num','marital.status', 'occupation','relationship', 'race', \n",
        "                        'sex', 'capital.gain','capital.loss', 'hours.per.week', 'native', 'income']\n",
        "dataset.isnull().sum().sum() # No missing values\n",
        "dataset_test = dataset_t.copy()"
      ],
      "execution_count": 114,
      "outputs": []
    },
    {
      "cell_type": "markdown",
      "metadata": {
        "id": "5fC0VahxalxP",
        "colab_type": "text"
      },
      "source": [
        "# Data Preparation"
      ]
    },
    {
      "cell_type": "code",
      "metadata": {
        "id": "sjGMymnPandL",
        "colab_type": "code",
        "colab": {
          "base_uri": "https://localhost:8080/",
          "height": 407
        },
        "outputId": "9257bd08-2b0b-4e88-c4fb-fcc962908b9d"
      },
      "source": [
        "from sklearn.utils import resample\n",
        "from imblearn.over_sampling import SMOTE\n",
        "from sklearn.preprocessing import OneHotEncoder, LabelEncoder\n",
        "\n",
        "# Combine majority class with upsampled minority class\n",
        "dataset.replace(to_replace='?',value=np.nan,inplace=True)\n",
        "dataset.isnull().sum()\n",
        "dataset.dropna(axis=0,inplace=True)\n",
        "dataset_test.replace(to_replace='?',value=np.nan,inplace=True)\n",
        "dataset_test.dropna(axis=0,inplace=True)\n",
        "dataset_test.isnull().sum()\n",
        "dataset['income']=dataset['income'].map({'<=50K': 0, '>50K': 1})\n",
        "dataset_test['income']=dataset_t['income'].map({'<=50K': 0, '>50K': 1, '<=50K.': 0, '>50K.': 1})\n",
        "dataset.isnull().sum().sum()\n",
        "# remove semantic error\n",
        "dataset = dataset.loc[~((dataset.relationship=='Wife') & (dataset.sex == 'Male')), :]\n",
        "dataset = dataset.loc[~(dataset['capital.gain']>40000), :]\n",
        "df_clean = dataset.copy()\n",
        "dft_clean = dataset_test.copy()\n",
        "# prepare dataset manually feature engeneered\n",
        "dataset[\"marital.status\"] = dataset[\"marital.status\"].replace(['Never-married','Divorced','Separated','Widowed'], 'Single')\n",
        "dataset[\"marital.status\"] = dataset[\"marital.status\"].replace(['Married-civ-spouse','Married-spouse-absent','Married-AF-spouse'], 'Married')\n",
        "dataset_test[\"marital.status\"] = dataset_test[\"marital.status\"].replace(['Never-married','Divorced','Separated','Widowed'], 'Single')\n",
        "dataset_test[\"marital.status\"] = dataset_test[\"marital.status\"].replace(['Married-civ-spouse','Married-spouse-absent','Married-AF-spouse'], 'Married')\n",
        "def get_investment(x1,x2):\n",
        "    if x1 != 0 or x2!= 0:\n",
        "      return 1\n",
        "    else:\n",
        "      return 0\n",
        "dataset['capital']=dataset.apply(lambda x: get_investment(x['capital.gain'], x['capital.loss']), axis=1)\n",
        "dataset_test['capital']=dataset_test.apply(lambda x: get_investment(x['capital.gain'], x['capital.loss']), axis=1)\n",
        "dataset_pruned = dataset.drop(['fnlwgt','education', 'occupation', 'native', 'capital.loss', \n",
        "                               'capital.gain','relationship'], axis=1)\n",
        "datasett_pruned = dataset_test.drop(['fnlwgt','education', 'occupation', 'native', 'capital.loss', \n",
        "                               'capital.gain','relationship'], axis=1)\n",
        "le = LabelEncoder()\n",
        "for i in [ 'workclass','marital.status', 'race', 'sex']:\n",
        "    dataset_pruned[i]=le.fit_transform(dataset_pruned[i])\n",
        "    datasett_pruned[i]=le.transform(datasett_pruned[i])\n",
        "\n",
        "dataset_pruned = pd.concat([dataset_pruned,pd.get_dummies(dataset_pruned['workclass'], prefix='workclass')],axis=1)\n",
        "datasett_pruned = pd.concat([datasett_pruned,pd.get_dummies(datasett_pruned['workclass'], prefix='workclass')],axis=1)\n",
        "dataset_test.dropna(axis=0,inplace=True)\n",
        "dataset_pruned.drop(['workclass'],axis=1,inplace=True)\n",
        "datasett_pruned.drop(['workclass'],axis=1,inplace=True)\n",
        "#prepare dataset with all features\n"
      ],
      "execution_count": 116,
      "outputs": [
        {
          "output_type": "execute_result",
          "data": {
            "text/html": [
              "<div>\n",
              "<style scoped>\n",
              "    .dataframe tbody tr th:only-of-type {\n",
              "        vertical-align: middle;\n",
              "    }\n",
              "\n",
              "    .dataframe tbody tr th {\n",
              "        vertical-align: top;\n",
              "    }\n",
              "\n",
              "    .dataframe thead th {\n",
              "        text-align: right;\n",
              "    }\n",
              "</style>\n",
              "<table border=\"1\" class=\"dataframe\">\n",
              "  <thead>\n",
              "    <tr style=\"text-align: right;\">\n",
              "      <th></th>\n",
              "      <th>age</th>\n",
              "      <th>education.num</th>\n",
              "      <th>marital.status</th>\n",
              "      <th>race</th>\n",
              "      <th>sex</th>\n",
              "      <th>hours.per.week</th>\n",
              "      <th>income</th>\n",
              "      <th>capital</th>\n",
              "    </tr>\n",
              "  </thead>\n",
              "  <tbody>\n",
              "    <tr>\n",
              "      <th>0</th>\n",
              "      <td>39</td>\n",
              "      <td>13</td>\n",
              "      <td>1</td>\n",
              "      <td>4</td>\n",
              "      <td>1</td>\n",
              "      <td>40</td>\n",
              "      <td>0</td>\n",
              "      <td>1</td>\n",
              "    </tr>\n",
              "    <tr>\n",
              "      <th>1</th>\n",
              "      <td>50</td>\n",
              "      <td>13</td>\n",
              "      <td>0</td>\n",
              "      <td>4</td>\n",
              "      <td>1</td>\n",
              "      <td>13</td>\n",
              "      <td>0</td>\n",
              "      <td>0</td>\n",
              "    </tr>\n",
              "    <tr>\n",
              "      <th>2</th>\n",
              "      <td>38</td>\n",
              "      <td>9</td>\n",
              "      <td>1</td>\n",
              "      <td>4</td>\n",
              "      <td>1</td>\n",
              "      <td>40</td>\n",
              "      <td>0</td>\n",
              "      <td>0</td>\n",
              "    </tr>\n",
              "    <tr>\n",
              "      <th>3</th>\n",
              "      <td>53</td>\n",
              "      <td>7</td>\n",
              "      <td>0</td>\n",
              "      <td>2</td>\n",
              "      <td>1</td>\n",
              "      <td>40</td>\n",
              "      <td>0</td>\n",
              "      <td>0</td>\n",
              "    </tr>\n",
              "    <tr>\n",
              "      <th>4</th>\n",
              "      <td>28</td>\n",
              "      <td>13</td>\n",
              "      <td>0</td>\n",
              "      <td>2</td>\n",
              "      <td>0</td>\n",
              "      <td>40</td>\n",
              "      <td>0</td>\n",
              "      <td>0</td>\n",
              "    </tr>\n",
              "    <tr>\n",
              "      <th>...</th>\n",
              "      <td>...</td>\n",
              "      <td>...</td>\n",
              "      <td>...</td>\n",
              "      <td>...</td>\n",
              "      <td>...</td>\n",
              "      <td>...</td>\n",
              "      <td>...</td>\n",
              "      <td>...</td>\n",
              "    </tr>\n",
              "    <tr>\n",
              "      <th>32556</th>\n",
              "      <td>27</td>\n",
              "      <td>12</td>\n",
              "      <td>0</td>\n",
              "      <td>4</td>\n",
              "      <td>0</td>\n",
              "      <td>38</td>\n",
              "      <td>0</td>\n",
              "      <td>0</td>\n",
              "    </tr>\n",
              "    <tr>\n",
              "      <th>32557</th>\n",
              "      <td>40</td>\n",
              "      <td>9</td>\n",
              "      <td>0</td>\n",
              "      <td>4</td>\n",
              "      <td>1</td>\n",
              "      <td>40</td>\n",
              "      <td>1</td>\n",
              "      <td>0</td>\n",
              "    </tr>\n",
              "    <tr>\n",
              "      <th>32558</th>\n",
              "      <td>58</td>\n",
              "      <td>9</td>\n",
              "      <td>1</td>\n",
              "      <td>4</td>\n",
              "      <td>0</td>\n",
              "      <td>40</td>\n",
              "      <td>0</td>\n",
              "      <td>0</td>\n",
              "    </tr>\n",
              "    <tr>\n",
              "      <th>32559</th>\n",
              "      <td>22</td>\n",
              "      <td>9</td>\n",
              "      <td>1</td>\n",
              "      <td>4</td>\n",
              "      <td>1</td>\n",
              "      <td>20</td>\n",
              "      <td>0</td>\n",
              "      <td>0</td>\n",
              "    </tr>\n",
              "    <tr>\n",
              "      <th>32560</th>\n",
              "      <td>52</td>\n",
              "      <td>9</td>\n",
              "      <td>0</td>\n",
              "      <td>4</td>\n",
              "      <td>0</td>\n",
              "      <td>40</td>\n",
              "      <td>1</td>\n",
              "      <td>1</td>\n",
              "    </tr>\n",
              "  </tbody>\n",
              "</table>\n",
              "<p>30011 rows × 8 columns</p>\n",
              "</div>"
            ],
            "text/plain": [
              "       age  education.num  marital.status  ...  hours.per.week  income  capital\n",
              "0       39             13               1  ...              40       0        1\n",
              "1       50             13               0  ...              13       0        0\n",
              "2       38              9               1  ...              40       0        0\n",
              "3       53              7               0  ...              40       0        0\n",
              "4       28             13               0  ...              40       0        0\n",
              "...    ...            ...             ...  ...             ...     ...      ...\n",
              "32556   27             12               0  ...              38       0        0\n",
              "32557   40              9               0  ...              40       1        0\n",
              "32558   58              9               1  ...              40       0        0\n",
              "32559   22              9               1  ...              20       0        0\n",
              "32560   52              9               0  ...              40       1        1\n",
              "\n",
              "[30011 rows x 8 columns]"
            ]
          },
          "metadata": {
            "tags": []
          },
          "execution_count": 116
        }
      ]
    },
    {
      "cell_type": "markdown",
      "metadata": {
        "id": "HTFQo36SQH55",
        "colab_type": "text"
      },
      "source": [
        "# Data Exploration\n",
        " - label count\n",
        " - age and income\n",
        " - sex and income\n",
        " - education and income\n",
        " - race and income\n",
        " - race-education and income\n",
        " - sex-marital status and income"
      ]
    },
    {
      "cell_type": "code",
      "metadata": {
        "id": "yYXVpEG3S36d",
        "colab_type": "code",
        "colab": {}
      },
      "source": [
        "from scipy.stats import chi2_contingency, chi2, ttest_ind\n",
        "from scipy import stats\n",
        "import random\n",
        "\n",
        "sns.countplot(dataset['income'],label=\"Count\")\n",
        "plt.show()\n",
        "# education is for sure a factor\n",
        "g = sns.catplot(x=\"education.num\",y=\"income\",data=dataset,kind=\"bar\",aspect=2,height= 5,palette = \"muted\")\n",
        "g.despine(left=True)\n",
        "g = g.set_ylabels(\">50K probability\")\n",
        "\n",
        "# Age is a factor\n",
        "sns.boxplot(y='hours.per.week',x='income',data=dataset)\n",
        "sns.boxplot(y='age',x='income',data=dataset)\n",
        "\n",
        "# Race is a factor\n",
        "g = sns.catplot(x=\"race\",y=\"income\",data=dataset,kind=\"bar\",height= 6,aspect=1.2,palette = \"muted\")\n",
        "g.despine(left=True)\n",
        "g = g.set_ylabels(\">50K probability\")\n",
        "\n",
        "# Race given an higher level of education\n",
        "g = sns.catplot(x=\"race\",y=\"income\",data=dataset[dataset['education.num']>11],aspect=1.2,kind=\"bar\",height= 6,palette = \"muted\")\n",
        "g.despine(left=True)\n",
        "#g.set(ylim=(0, 0.3))\n",
        "g = g.set_ylabels(\">50K probability\")\n",
        "\n",
        "plt.figure(figsize=(10,7))\n",
        "sns.boxplot(x=\"income\", y=\"fnlwgt\", data=dataset)\n",
        "plt.show()\n",
        "\n",
        "data = dataset[(np.abs(stats.zscore(dataset[\"fnlwgt\"])) < 3)] \n",
        "\n",
        "income_1 = data[data['income']==1][\"fnlwgt\"]\n",
        "income_0 = data[data['income']==0][\"fnlwgt\"]\n",
        "\n",
        "income_0 = income_0.values.tolist()\n",
        "income_0 = random.sample(income_0, 100)\n",
        "income_1 = income_1.values.tolist()\n",
        "income_1 = random.sample(income_1, 100)\n",
        "\n",
        "ttest,pval = ttest_ind(income_1,income_0,equal_var = False)\n",
        "print(\"ttest\",ttest)\n",
        "print(\"p-value\",pval)\n",
        "\n",
        "if pval <0.05:\n",
        "    print(\"we reject null hypothesis\")\n",
        "else:\n",
        "    print(\"we accept null hypothesis\")\n",
        "\n",
        "# Sex is a factor\n",
        "g = sns.catplot(x=\"sex\",y=\"income\",data=dataset,kind=\"bar\",aspect=1.2,height= 6,palette = \"muted\")\n",
        "g.despine(left=True)\n",
        "g = g.set_ylabels(\">50K probability\")\n",
        "f, axes = plt.subplots(2, 2, figsize=(7, 7), sharex=True)\n",
        "\n",
        "sns.boxplot(y='capital.gain',x='income',data=dataset)\n",
        "\n",
        "# Sex given education\n",
        "g = sns.catplot(x=\"sex\",y=\"income\",data=dataset[dataset['education.num']>11],aspect=1.2,kind=\"bar\",height= 6,palette = \"muted\")\n",
        "g.despine(left=True)\n",
        "g = g.set_ylabels(\">50K probability\")\n",
        "# Relationship the no-child factor\n",
        "g= sns.catplot(x=\"relationship\",y=\"income\",hue='sex',aspect=1.5, data=dataset,kind=\"bar\")\n",
        "g.set_ylabels(\">50K probability\")\n",
        "g = sns.catplot(x=\"marital.status\",y=\"income\",hue='sex',aspect=1.5, data=dataset,kind=\"bar\")\n",
        "g.set_ylabels(\">50K probability\")\n",
        "\n",
        "fig, (a,b)= plt.subplots(1,2,figsize=(20,6))\n",
        "sns.catplot(y='hours.per.week',x='income',data=dataset,ax=a)\n",
        "sns.boxplot(y='age',x='income',data=dataset,ax=b)\n",
        "print(dataset.loc[dataset.income==0, ['capital.gain']].mean())\n",
        "print(dataset.loc[dataset.income==1, ['capital.gain']].mean())\n",
        "print(dataset.loc[dataset.income==0, ['capital.gain']].median())\n",
        "print(dataset.loc[dataset.income==1, ['capital.gain']].median())\n",
        "\n",
        "\n",
        "g = sns.catplot(x=\"capital\",y=\"income\", data=dataset,kind=\"bar\",height= 6,palette = \"muted\")\n",
        "g.despine(left=True)\n",
        "g = g.set_ylabels(\">50K probability\")\n",
        "\n",
        "g = sns.catplot(x=\"workclass\",y=\"income\",data=dataset,kind=\"bar\",height= 6, aspect=2,palette = \"muted\")\n",
        "g.despine(left=True)\n",
        "g = g.set_ylabels(\">50K probability\")\n",
        "\n",
        "g = sns.catplot(x=\"occupation\",y=\"income\",data=dataset,kind=\"bar\",height= 6, aspect=3,palette = \"muted\")\n",
        "g.despine(left=True)\n",
        "g = g.set_ylabels(\">50K probability\")\n",
        "\n",
        "dataset.loc[dataset['native']!='United-States','native'] = 'non_usa'\n",
        "g = sns.catplot(x=\"native\",y=\"income\",data=dataset,kind=\"bar\",height= 6, aspect=3,palette = \"muted\")\n",
        "g.despine(left=True)\n",
        "g = g.set_ylabels(\">50K probability\")\n",
        "\n",
        "corr=dataset[numeric_features].corr()\n",
        "fig, ax = plt.subplots(figsize=(7,7))         # Sample figsize in inches\n",
        "sns.heatmap(corr, annot=True, linewidths=.5, ax=ax)"
      ],
      "execution_count": null,
      "outputs": []
    },
    {
      "cell_type": "code",
      "metadata": {
        "id": "7n0YSI7zqkTJ",
        "colab_type": "code",
        "colab": {}
      },
      "source": [
        "import matplotlib.pyplot as plt\n",
        "from matplotlib.colors import ListedColormap, Normalize\n",
        "from matplotlib.ticker import FormatStrFormatter, StrMethodFormatter\n",
        "import numpy as np\n",
        "\n",
        "def plot_grid_search(cv_results, grid_param_1, grid_param_2, name_param_1, name_param_2, log=False):\n",
        "    # Get Test Scores Mean and std for each grid search\n",
        "    scores_mean = cv_results['mean_test_score']\n",
        "    scores_mean = np.array(scores_mean).reshape(len(grid_param_2),len(grid_param_1))\n",
        "\n",
        "    scores_sd = cv_results['std_test_score']\n",
        "    scores_sd = np.array(scores_sd).reshape(len(grid_param_2),len(grid_param_1))\n",
        "\n",
        "    # Plot Grid search scores\n",
        "    _, ax = plt.subplots(1,1)\n",
        "\n",
        "    # Param1 is the X-axis, Param 2 is represented as a different curve (color line)\n",
        "    for idx, val in enumerate(grid_param_2):\n",
        "        ax.plot(grid_param_1, scores_mean[idx,:], '-o', label= name_param_2 + ': ' + str(val))\n",
        "\n",
        "    ax.set_xlabel(name_param_1, fontsize=16)\n",
        "    ax.set_ylabel('CV Average Score', fontsize=16)\n",
        "    if log:\n",
        "      plt.xscale('log')\n",
        "    ax.legend(loc='upper center', bbox_to_anchor=(1.45, 0.8), shadow=True, ncol=1)\n",
        "    ax.grid('on')\n"
      ],
      "execution_count": 4,
      "outputs": []
    },
    {
      "cell_type": "markdown",
      "metadata": {
        "id": "9NyLKcdGNxjM",
        "colab_type": "text"
      },
      "source": [
        "#Models"
      ]
    },
    {
      "cell_type": "code",
      "metadata": {
        "id": "vVbLs3dUN0CY",
        "colab_type": "code",
        "colab": {
          "base_uri": "https://localhost:8080/",
          "height": 313
        },
        "outputId": "da0cfc77-6c3e-4b3f-d59f-33d6e6ccd1dd"
      },
      "source": [
        "from sklearn.decomposition import PCA\n",
        "from sklearn.preprocessing import StandardScaler\n",
        "from imblearn.over_sampling import SMOTE\n",
        "from sklearn.linear_model import LogisticRegression\n",
        "from sklearn.metrics import confusion_matrix, classification_report,recall_score, accuracy_score, precision_score, f1_score\n",
        "from sklearn import svm\n",
        "from sklearn.neighbors import KNeighborsClassifier\n",
        "from sklearn.model_selection import train_test_split, GridSearchCV,KFold,cross_val_score\n",
        "from sklearn.ensemble import RandomForestClassifier\n",
        "from sklearn.naive_bayes import MultinomialNB\n",
        "from sklearn.preprocessing import MinMaxScaler\n",
        "\n",
        "#12 components express 90% variance\n",
        "scaler = StandardScaler()\n",
        "\n",
        "Xp_train = dataset_pruned.drop('income', axis=1)\n",
        "Xp_train=scaler.fit_transform(Xp_train)\n",
        "yp_train = dataset_pruned.loc[:,'income']\n",
        "\n",
        "pca = PCA().fit(Xp_train)\n",
        "\n",
        "plt.plot(np.cumsum(pca.explained_variance_ratio_))\n",
        "plt.title('Cumulative variance')\n",
        "plt.xlabel('Number of components')\n",
        "plt.ylabel('Variance explained')\n",
        "\n",
        "cumvar = np.cumsum(pca.explained_variance_ratio_)\n",
        "cumvar[2]\n",
        "\n",
        "pca_final = PCA(n_components=10)\n",
        "Xp_train = pca_final.fit_transform(Xp_train)\n",
        "\n",
        "pca_final.transform\n",
        "Xp_test = datasett_pruned.drop('income', axis=1)\n",
        "Xp_test= scaler.transform(Xp_test)\n",
        "yp_test = datasett_pruned.loc[:,'income']\n",
        "Xp_test = pca_final.transform(Xp_test)\n",
        "\n",
        "# oversampling\n",
        "oversample = SMOTE()\n",
        "\n",
        "X_plot = PCA(n_components=2).fit_transform(Xp_train)\n",
        "principalDf = pd.DataFrame(data = X_plot\n",
        "             , columns = ['principal component 1', 'principal component 2'])\n",
        "\n",
        "finalDf = pd.concat([principalDf, yp_train], axis = 1)\n",
        "\n",
        "principalDf.isnull().sum()\n",
        "fig = plt.figure(figsize = (8,8))\n",
        "ax = fig.add_subplot(1,1,1) \n",
        "ax.set_xlabel('Principal Component 1', fontsize = 15)\n",
        "ax.set_ylabel('Principal Component 2', fontsize = 15)\n",
        "ax.set_title('2 component PCA', fontsize = 20)\n",
        "targets = [0,1]\n",
        "colors = ['o', '^']\n",
        "for target, color in zip(targets,colors):\n",
        "    indicesToKeep = finalDf['income'] == target\n",
        "    ax.scatter(finalDf.loc[indicesToKeep, 'principal component 1']\n",
        "               , finalDf.loc[indicesToKeep, 'principal component 2']\n",
        "               , marker = color)\n",
        "ax.legend(targets)\n",
        "ax.grid()\n",
        "Xsp_train, ysp_train = oversample.fit_resample(Xp_train, yp_train)"
      ],
      "execution_count": 121,
      "outputs": [
        {
          "output_type": "execute_result",
          "data": {
            "text/plain": [
              "0.5605549992084395"
            ]
          },
          "metadata": {
            "tags": []
          },
          "execution_count": 121
        },
        {
          "output_type": "display_data",
          "data": {
            "image/png": "[encoded data removed]",
            "text/plain": [
              "<Figure size 432x288 with 1 Axes>"
            ]
          },
          "metadata": {
            "tags": [],
            "needs_background": "light"
          }
        }
      ]
    },
    {
      "cell_type": "code",
      "metadata": {
        "id": "_ywaFX3J22F4",
        "colab_type": "code",
        "colab": {
          "base_uri": "https://localhost:8080/",
          "height": 515
        },
        "outputId": "8c931c7c-4ebd-4d2d-9103-a5f7e73009b7"
      },
      "source": [
        "# baseline KNN\n",
        "f1s = []\n",
        "precisions=[]\n",
        "recalls=[]\n",
        "\n",
        "ks = range(3,20,3)\n",
        "param =  {'n_neighbors': ks}\n",
        "clf = GridSearchCV(KNeighborsClassifier(), param_grid = param, cv = 5, verbose=True, n_jobs=-1, scoring='f1_weighted')\n",
        "clf.fit(Xsp_train, ysp_train)\n",
        "plt.plot(ks, clf.cv_results_['mean_test_score'])\n",
        "plt.xlabel('Cs')\n",
        "plt.ylabel('Average F1 Score')\n",
        "plt.show()\n",
        "print(\"Best model on training set with oversampling has %r with f1_weighted %.4f\" %(clf.best_params_, clf.best_score_))\n",
        "y_true, y_pred = yp_test, clf.predict(Xp_test)\n",
        "print(classification_report(y_true, y_pred))\n",
        "f1s.append(f1_score(y_true, y_pred, average='weighted'))\n",
        "precisions.append(precision_score(y_true, y_pred))\n",
        "recalls.append(recall_score(y_true, y_pred))"
      ],
      "execution_count": 98,
      "outputs": [
        {
          "output_type": "stream",
          "text": [
            "Fitting 5 folds for each of 6 candidates, totalling 30 fits\n"
          ],
          "name": "stdout"
        },
        {
          "output_type": "stream",
          "text": [
            "[Parallel(n_jobs=-1)]: Using backend LokyBackend with 2 concurrent workers.\n",
            "[Parallel(n_jobs=-1)]: Done  30 out of  30 | elapsed:   13.9s finished\n"
          ],
          "name": "stderr"
        },
        {
          "output_type": "display_data",
          "data": {
            "image/png": "[encoded data removed]",
            "text/plain": [
              "<Figure size 432x288 with 1 Axes>"
            ]
          },
          "metadata": {
            "tags": [],
            "needs_background": "light"
          }
        },
        {
          "output_type": "stream",
          "text": [
            "Best model on training set with oversampling has {'n_neighbors': 3} with f1_weighted 0.8306\n",
            "              precision    recall  f1-score   support\n",
            "\n",
            "           0       0.89      0.79      0.84     11360\n",
            "           1       0.52      0.71      0.60      3700\n",
            "\n",
            "    accuracy                           0.77     15060\n",
            "   macro avg       0.71      0.75      0.72     15060\n",
            "weighted avg       0.80      0.77      0.78     15060\n",
            "\n"
          ],
          "name": "stdout"
        }
      ]
    },
    {
      "cell_type": "code",
      "metadata": {
        "id": "fY9TOXLrgilY",
        "colab_type": "code",
        "colab": {
          "base_uri": "https://localhost:8080/",
          "height": 548
        },
        "outputId": "da25c803-2920-449b-b326-ff3eecad1e50"
      },
      "source": [
        "# baseline Logistic Regression\n",
        "Cs = [0.1, 1, 10, 100, 1000]\n",
        "param =  {'C': Cs}\n",
        "clf = GridSearchCV(LogisticRegression(), param_grid = param, cv = 5, verbose=True, n_jobs=-1, scoring='f1_weighted')\n",
        "clf.fit(Xsp_train, ysp_train)\n",
        "plt.plot(Cs, clf.cv_results_['mean_test_score'])\n",
        "plt.xlabel('Cs')\n",
        "plt.xscale('log')\n",
        "plt.ylabel('Average F1 Score')\n",
        "plt.show()\n",
        "print(\"Best model with upsampling on training set has %r with f1_weighted %.4f\" %(clf.best_params_, clf.best_score_))\n",
        "y_true, y_pred = yp_test, clf.predict(Xp_test)\n",
        "print(classification_report(y_true, y_pred))\n",
        "f1s.append(f1_score(y_true, y_pred, average='weighted'))\n",
        "precisions.append(precision_score(y_true, y_pred))\n",
        "recalls.append(recall_score(y_true, y_pred))"
      ],
      "execution_count": 99,
      "outputs": [
        {
          "output_type": "stream",
          "text": [
            "Fitting 5 folds for each of 5 candidates, totalling 25 fits\n"
          ],
          "name": "stdout"
        },
        {
          "output_type": "stream",
          "text": [
            "[Parallel(n_jobs=-1)]: Using backend LokyBackend with 2 concurrent workers.\n",
            "[Parallel(n_jobs=-1)]: Done  22 out of  25 | elapsed:    1.3s remaining:    0.2s\n",
            "[Parallel(n_jobs=-1)]: Done  25 out of  25 | elapsed:    1.4s finished\n"
          ],
          "name": "stderr"
        },
        {
          "output_type": "display_data",
          "data": {
            "image/png": "[encoded data removed]",
            "text/plain": [
              "<Figure size 432x288 with 1 Axes>"
            ]
          },
          "metadata": {
            "tags": [],
            "needs_background": "light"
          }
        },
        {
          "output_type": "stream",
          "text": [
            "Best model with upsampling on training set has {'C': 0.1} with f1_weighted 0.7889\n",
            "              precision    recall  f1-score   support\n",
            "\n",
            "           0       0.92      0.76      0.84     11360\n",
            "           1       0.53      0.81      0.64      3700\n",
            "\n",
            "    accuracy                           0.77     15060\n",
            "   macro avg       0.73      0.79      0.74     15060\n",
            "weighted avg       0.83      0.77      0.79     15060\n",
            "\n"
          ],
          "name": "stdout"
        }
      ]
    },
    {
      "cell_type": "code",
      "metadata": {
        "id": "Q5LD-1W4mXnZ",
        "colab_type": "code",
        "colab": {
          "base_uri": "https://localhost:8080/",
          "height": 541
        },
        "outputId": "40f471ac-e01f-4c51-d3e9-f00502215dc1"
      },
      "source": [
        "# Random Forest\n",
        "n_estimators = list(range(10,101,20))\n",
        "#max_features = list(range(6,32,5))\n",
        "max_depth = list(range(6,32,5))\n",
        "#param_grid = {'n_estimators': n_estimators, 'max_features' : max_features}\n",
        "param_grid = {'n_estimators': n_estimators, 'max_depth' : max_depth}\n",
        "clf_for = GridSearchCV(RandomForestClassifier(), param_grid = param_grid, cv = 5, verbose=True, n_jobs=-1, scoring = 'f1_weighted')\n",
        "    \n",
        "clf_for.fit(Xp_train, yp_train)\n",
        "\n",
        "#plot_grid_search(clf_for.cv_results_, n_estimators, max_features, \"n_estimators\", \"max_features\")\n",
        "plot_grid_search(clf_for.cv_results_, n_estimators, max_depth, \"n_estimators\", \"max_depth\")\n",
        "\n",
        "print(\"Best model on training set has %r with f1_weighted %.4f\" %(clf_for.best_params_, clf_for.best_score_))\n",
        "y_true, y_pred = yp_test, clf_for.predict(Xp_test)\n",
        "print(classification_report(y_true, y_pred))\n",
        "f1s.append(f1_score(y_true, y_pred, average='weighted'))\n",
        "precisions.append(precision_score(y_true, y_pred))\n",
        "recalls.append(recall_score(y_true, y_pred))"
      ],
      "execution_count": 100,
      "outputs": [
        {
          "output_type": "stream",
          "text": [
            "Fitting 5 folds for each of 30 candidates, totalling 150 fits\n"
          ],
          "name": "stdout"
        },
        {
          "output_type": "stream",
          "text": [
            "[Parallel(n_jobs=-1)]: Using backend LokyBackend with 2 concurrent workers.\n",
            "[Parallel(n_jobs=-1)]: Done  46 tasks      | elapsed:  1.2min\n",
            "[Parallel(n_jobs=-1)]: Done 150 out of 150 | elapsed:  5.6min finished\n"
          ],
          "name": "stderr"
        },
        {
          "output_type": "stream",
          "text": [
            "Best model on training set has {'max_depth': 11, 'n_estimators': 70} with f1_weighted 0.8264\n",
            "              precision    recall  f1-score   support\n",
            "\n",
            "           0       0.87      0.92      0.89     11360\n",
            "           1       0.69      0.56      0.62      3700\n",
            "\n",
            "    accuracy                           0.83     15060\n",
            "   macro avg       0.78      0.74      0.76     15060\n",
            "weighted avg       0.82      0.83      0.83     15060\n",
            "\n"
          ],
          "name": "stdout"
        },
        {
          "output_type": "display_data",
          "data": {
            "image/png": "[encoded data removed]",
            "text/plain": [
              "<Figure size 432x288 with 1 Axes>"
            ]
          },
          "metadata": {
            "tags": [],
            "needs_background": "light"
          }
        }
      ]
    },
    {
      "cell_type": "code",
      "metadata": {
        "id": "p1uhLEkYy3uE",
        "colab_type": "code",
        "colab": {
          "base_uri": "https://localhost:8080/",
          "height": 515
        },
        "outputId": "266fb80e-004f-443f-c01c-4d5207c85e77"
      },
      "source": [
        "Cs = [0.1, 1, 10]\n",
        "kernels=['linear','rbf']\n",
        "param_grid = {'kernel': kernels, 'C': Cs}\n",
        "clf_svm = GridSearchCV(svm.SVC(), param_grid = param_grid, cv = 2, verbose=True, n_jobs=-1, scoring = 'f1_weighted')\n",
        "    \n",
        "clf_svm.fit(Xsp_train, ysp_train)\n",
        "\n",
        "plt.plot(Cs, clf_svm.cv_results_['mean_test_score'][:3], label='linear')\n",
        "plt.plot(Cs, clf_svm.cv_results_['mean_test_score'][3:6], label='rbf')\n",
        "plt.xlabel('Cs')\n",
        "plt.legend()\n",
        "plt.ylabel('Average F1 Score')\n",
        "plt.show()\n",
        "#plot_grid_search(clf_for.cv_results_, n_estimators, max_features, \"n_estimators\", \"max_features\")\n",
        "\n",
        "print(\"Best model on training set has %r with f1_weighted %.4f\" %(clf_svm.best_params_, clf_svm.best_score_))\n",
        "y_true, y_pred = yp_test, clf_svm.predict(Xp_test)\n",
        "print(classification_report(y_true, y_pred))\n",
        "f1s.append(f1_score(y_true, y_pred, average='weighted'))\n",
        "precisions.append(precision_score(y_true, y_pred))\n",
        "recalls.append(recall_score(y_true, y_pred))"
      ],
      "execution_count": 102,
      "outputs": [
        {
          "output_type": "stream",
          "text": [
            "Fitting 2 folds for each of 6 candidates, totalling 12 fits\n"
          ],
          "name": "stdout"
        },
        {
          "output_type": "stream",
          "text": [
            "[Parallel(n_jobs=-1)]: Using backend LokyBackend with 2 concurrent workers.\n",
            "[Parallel(n_jobs=-1)]: Done  12 out of  12 | elapsed:  3.5min finished\n"
          ],
          "name": "stderr"
        },
        {
          "output_type": "display_data",
          "data": {
            "image/png": "[encoded data removed]",
            "text/plain": [
              "<Figure size 432x288 with 1 Axes>"
            ]
          },
          "metadata": {
            "tags": [],
            "needs_background": "light"
          }
        },
        {
          "output_type": "stream",
          "text": [
            "Best model on training set has {'C': 10, 'kernel': 'rbf'} with f1_weighted 0.8134\n",
            "              precision    recall  f1-score   support\n",
            "\n",
            "           0       0.94      0.75      0.83     11360\n",
            "           1       0.52      0.86      0.65      3700\n",
            "\n",
            "    accuracy                           0.77     15060\n",
            "   macro avg       0.73      0.80      0.74     15060\n",
            "weighted avg       0.84      0.77      0.79     15060\n",
            "\n"
          ],
          "name": "stdout"
        }
      ]
    },
    {
      "cell_type": "markdown",
      "metadata": {
        "id": "6jhutQKny6rd",
        "colab_type": "text"
      },
      "source": [
        "# Tests"
      ]
    },
    {
      "cell_type": "code",
      "metadata": {
        "id": "Uoq0U-w8avkO",
        "colab_type": "code",
        "colab": {
          "base_uri": "https://localhost:8080/",
          "height": 336
        },
        "outputId": "2d59546c-ec87-41be-e9eb-bd9dcb8e2d6b"
      },
      "source": [
        "# Setting the positions and width for the bars\n",
        "pos = list(range(len(f1s))) \n",
        "width = 0.25 \n",
        "    \n",
        "# Plotting the bars\n",
        "fig, ax = plt.subplots(figsize=(10,5))\n",
        "\n",
        "# Create a bar with pre_score data,\n",
        "# in position pos,\n",
        "plt.bar(pos, \n",
        "        #using df['pre_score'] data,\n",
        "        f1s, \n",
        "        # of width\n",
        "        width, \n",
        "        # with alpha 0.5\n",
        "        alpha=0.5, \n",
        "        # with color\n",
        "        color='#EE3224', \n",
        "        # with label the first value in first_name\n",
        "        label=\"F1 score\") \n",
        "\n",
        "# Create a bar with mid_score data,\n",
        "# in position pos + some width buffer,\n",
        "plt.bar([p + width for p in pos], \n",
        "        #using df['mid_score'] data,\n",
        "        precisions,\n",
        "        # of width\n",
        "        width, \n",
        "        # with alpha 0.5\n",
        "        alpha=0.5, \n",
        "        # with color\n",
        "        color='#F78F1E', \n",
        "        # with label the second value in first_name\n",
        "        label=\"Precisions\") \n",
        "\n",
        "plt.bar([p + 2*width for p in pos], \n",
        "        #using df['mid_score'] data,\n",
        "        recalls,\n",
        "        # of width\n",
        "        width, \n",
        "        # with alpha 0.5\n",
        "        alpha=0.5, \n",
        "        # with color\n",
        "        color='#ffff00', \n",
        "        # with label the second value in first_name\n",
        "        label=\"Recalls\") \n",
        "\n",
        "\n",
        "# Set the y axis label\n",
        "ax.set_ylabel('% achieved on test set')\n",
        "\n",
        "# Set the chart's title\n",
        "ax.set_title('Models')\n",
        "\n",
        "# Set the position of the x ticks\n",
        "ax.set_xticks([p+ 0.5 * width for p in pos])\n",
        "\n",
        "# Set the labels for the x ticks\n",
        "ax.set_xticklabels([\"KNN\",\"Logistic Regression\",\"Random Forest\", \"SVM\"])\n",
        "\n",
        "# Setting the x-axis and y-axis limits\n",
        "plt.xlim(min(pos)-width, max(pos)+width*4)\n",
        "plt.ylim([0.50, max(accuracies + recalls)+0.02] )\n",
        "\n",
        "# Adding the legend and showing the plot\n",
        "plt.legend(['f1', 'precision','recall'] ,loc='upper right')\n",
        "plt.grid()\n",
        "plt.show()"
      ],
      "execution_count": 103,
      "outputs": [
        {
          "output_type": "display_data",
          "data": {
            "image/png": "[encoded data removed]",
            "text/plain": [
              "<Figure size 720x360 with 1 Axes>"
            ]
          },
          "metadata": {
            "tags": [],
            "needs_background": "light"
          }
        }
      ]
    },
    {
      "cell_type": "code",
      "metadata": {
        "id": "GixTzrZusUF5",
        "colab_type": "code",
        "colab": {}
      },
      "source": [
        "mm = MinMaxScaler()\n",
        "alphas = [0, 0.001, 0.1,  0.3, 0.5, 0.7, 1, 2, 10, 100]\n",
        "Xmm_train = mm.fit_transform(Xsp_train)\n",
        "Xmm_test = mm.transform(Xp_test)\n",
        "param_grid = {'alpha': alphas}\n",
        "\n",
        "clf_nai = GridSearchCV(MultinomialNB(), param_grid = param_grid, cv = 5, verbose=True, n_jobs=-1, scoring='recall')\n",
        "    \n",
        "clf_nai.fit(Xmm_train, ysp_train)\n",
        "\n",
        "plt.plot(alphas, clf_nai.cv_results_['mean_test_score'])\n",
        "plt.xlabel('Alpha')\n",
        "plt.xscale('log')\n",
        "plt.ylabel('Average CV Accuracy')\n",
        "plt.show()\n",
        "\n",
        "print(\"Best model on training set has %r with recall %.4f\" %(clf_nai.best_params_, clf_nai.best_score_))\n",
        "y_true, y_pred = yp_test, clf_nai.predict(Xmm_test)\n",
        "print(classification_report(y_true, y_pred))\n",
        "accuracies.append(f1_score(y_true, y_pred))\n",
        "recalls.append(recall_score(y_true, y_pred))"
      ],
      "execution_count": null,
      "outputs": []
    },
    {
      "cell_type": "markdown",
      "metadata": {
        "id": "HZdN22M6uBy0",
        "colab_type": "text"
      },
      "source": [
        ""
      ]
    },
    {
      "cell_type": "code",
      "metadata": {
        "id": "YkjW2jxteVWZ",
        "colab_type": "code",
        "colab": {}
      },
      "source": [
        "# model comparison\n",
        "seed = 7\n",
        "num_folds = 10\n",
        "data = []\n",
        "data.append(('all',X_train, y_train))\n",
        "data.append(('all_resample', Xs_train, ys_train))\n",
        "# data.append(('pca',Xpca_train, ypca_train))\n",
        "# data.append(('pca_oversampling', Xspca_train, yspca_train))\n",
        "data.append(('manually_pruned', Xp_train, yp_train))\n",
        "data.append(('manual_prun_over', Xsp_train, ysp_train))\n",
        "#models.append(('SVM', svm.SVC(), {'C': Cs}))\n",
        "# evalutate each model in turn\n",
        "results = []\n",
        "names = []\n",
        "for name, X_t,Y_t in data:\n",
        "    model = LogisticRegression(C=10)\n",
        "    kfold = KFold(n_splits=10)\n",
        "    cv_results = cross_val_score(model, X_t, Y_t, cv=kfold, scoring='f1')\n",
        "    results.append(cv_results)\n",
        "    names.append(name)\n",
        "    msg = \"%s: %f (%f)\" % (name, cv_results.mean(), cv_results.std())\n",
        "    print(msg)\n",
        "\n",
        "fig = plt.figure(figsize=(20,10))\n",
        "fig.suptitle('Feature selection Comparison')\n",
        "ax = fig.add_subplot(111)\n",
        "plt.ylabel(\"f1 scores with KFold\")\n",
        "plt.boxplot(results)\n",
        "ax.set_xticklabels(names)\n",
        "plt.show()"
      ],
      "execution_count": null,
      "outputs": []
    }
  ]
}