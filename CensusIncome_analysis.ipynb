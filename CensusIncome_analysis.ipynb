{
  "nbformat": 4,
  "nbformat_minor": 0,
  "metadata": {
    "colab": {
      "name": "CensusIncome_analysis.ipynb",
      "provenance": [],
      "collapsed_sections": [],
      "toc_visible": true
    },
    "kernelspec": {
      "name": "python3",
      "display_name": "Python 3"
    }
  },
  "cells": [
    {
      "cell_type": "markdown",
      "metadata": {
        "id": "X_5x7djLvNrv",
        "colab_type": "text"
      },
      "source": [
        "# Introduction\n",
        "dataset: https://archive.ics.uci.edu/ml/datasets/Census+Income "
      ]
    },
    {
      "cell_type": "code",
      "metadata": {
        "id": "kloLBxB6u_rG",
        "colab_type": "code",
        "colab": {
          "base_uri": "https://localhost:8080/",
          "height": 146
        },
        "outputId": "97dfe065-6422-4cf7-fd64-c9e61498aa4a"
      },
      "source": [
        "from google.colab import drive\n",
        "#link to download the dataset\n",
        "#\n",
        "\n",
        "drive.mount('/content/gdrive')\n",
        "%cd /content/gdrive/My Drive/MML/"
      ],
      "execution_count": null,
      "outputs": [
        {
          "output_type": "stream",
          "text": [
            "Go to this URL in a browser: https://accounts.google.com/o/oauth2/auth?client_id=947318989803-6bn6qk8qdgf4n4g3pfee6491hc0brc4i.apps.googleusercontent.com&redirect_uri=urn%3aietf%3awg%3aoauth%3a2.0%3aoob&response_type=code&scope=email%20https%3a%2f%2fwww.googleapis.com%2fauth%2fdocs.test%20https%3a%2f%2fwww.googleapis.com%2fauth%2fdrive%20https%3a%2f%2fwww.googleapis.com%2fauth%2fdrive.photos.readonly%20https%3a%2f%2fwww.googleapis.com%2fauth%2fpeopleapi.readonly\n",
            "\n",
            "Enter your authorization code:\n",
            "··········\n",
            "Mounted at /content/gdrive\n",
            "/content/gdrive/My Drive/MML\n"
          ],
          "name": "stdout"
        }
      ]
    },
    {
      "cell_type": "code",
      "metadata": {
        "id": "EY2aBc-8FZ1q",
        "colab_type": "code",
        "colab": {
          "base_uri": "https://localhost:8080/",
          "height": 322
        },
        "outputId": "c07bff4d-3cfd-4e09-979c-2a9692d737db"
      },
      "source": [
        "import pandas as pd\n",
        "import numpy as np\n",
        "import matplotlib.pyplot as plt\n",
        "import seaborn as sns\n",
        "from sklearn.preprocessing import LabelEncoder\n",
        "\n",
        "dataset = pd.read_csv(\"adult.data\", header=None, skipinitialspace=True, delimiter=',')\n",
        "dataset_t = pd.read_csv(\"adult.test\", header=None, skipinitialspace=True, delimiter=',', skiprows=1)\n",
        "\n",
        "numeric_features = ['age','fnlwgt','education.num','capital.gain','capital.loss','hours.per.week','income']\n",
        "# Identify Categorical features\n",
        "cate_features = ['workclass','education','marital.status', 'occupation', 'relationship', 'race', 'sex', 'native']\n",
        "dataset.columns = ['age','workclass','fnlwgt','education','education.num','marital.status', 'occupation','relationship', 'race', \n",
        "                   'sex', 'capital.gain','capital.loss', 'hours.per.week', 'native', 'income']\n",
        "dataset_t.columns = ['age','workclass','fnlwgt','education','education.num','marital.status', 'occupation','relationship', 'race', \n",
        "                        'sex', 'capital.gain','capital.loss', 'hours.per.week', 'native', 'income']\n",
        "dataset.isnull().sum().sum() # No missing values\n",
        "dataset_test = dataset_t.copy()\n",
        "dataset[dataset['education.num']==11].head()"
      ],
      "execution_count": null,
      "outputs": [
        {
          "output_type": "execute_result",
          "data": {
            "text/html": [
              "<div>\n",
              "<style scoped>\n",
              "    .dataframe tbody tr th:only-of-type {\n",
              "        vertical-align: middle;\n",
              "    }\n",
              "\n",
              "    .dataframe tbody tr th {\n",
              "        vertical-align: top;\n",
              "    }\n",
              "\n",
              "    .dataframe thead th {\n",
              "        text-align: right;\n",
              "    }\n",
              "</style>\n",
              "<table border=\"1\" class=\"dataframe\">\n",
              "  <thead>\n",
              "    <tr style=\"text-align: right;\">\n",
              "      <th></th>\n",
              "      <th>age</th>\n",
              "      <th>workclass</th>\n",
              "      <th>fnlwgt</th>\n",
              "      <th>education</th>\n",
              "      <th>education.num</th>\n",
              "      <th>marital.status</th>\n",
              "      <th>occupation</th>\n",
              "      <th>relationship</th>\n",
              "      <th>race</th>\n",
              "      <th>sex</th>\n",
              "      <th>capital.gain</th>\n",
              "      <th>capital.loss</th>\n",
              "      <th>hours.per.week</th>\n",
              "      <th>native</th>\n",
              "      <th>income</th>\n",
              "    </tr>\n",
              "  </thead>\n",
              "  <tbody>\n",
              "    <tr>\n",
              "      <th>14</th>\n",
              "      <td>40</td>\n",
              "      <td>Private</td>\n",
              "      <td>121772</td>\n",
              "      <td>Assoc-voc</td>\n",
              "      <td>11</td>\n",
              "      <td>Married-civ-spouse</td>\n",
              "      <td>Craft-repair</td>\n",
              "      <td>Husband</td>\n",
              "      <td>Asian-Pac-Islander</td>\n",
              "      <td>Male</td>\n",
              "      <td>0</td>\n",
              "      <td>0</td>\n",
              "      <td>40</td>\n",
              "      <td>?</td>\n",
              "      <td>&gt;50K</td>\n",
              "    </tr>\n",
              "    <tr>\n",
              "      <th>48</th>\n",
              "      <td>41</td>\n",
              "      <td>State-gov</td>\n",
              "      <td>101603</td>\n",
              "      <td>Assoc-voc</td>\n",
              "      <td>11</td>\n",
              "      <td>Married-civ-spouse</td>\n",
              "      <td>Craft-repair</td>\n",
              "      <td>Husband</td>\n",
              "      <td>White</td>\n",
              "      <td>Male</td>\n",
              "      <td>0</td>\n",
              "      <td>0</td>\n",
              "      <td>40</td>\n",
              "      <td>United-States</td>\n",
              "      <td>&lt;=50K</td>\n",
              "    </tr>\n",
              "    <tr>\n",
              "      <th>49</th>\n",
              "      <td>29</td>\n",
              "      <td>Private</td>\n",
              "      <td>271466</td>\n",
              "      <td>Assoc-voc</td>\n",
              "      <td>11</td>\n",
              "      <td>Never-married</td>\n",
              "      <td>Prof-specialty</td>\n",
              "      <td>Not-in-family</td>\n",
              "      <td>White</td>\n",
              "      <td>Male</td>\n",
              "      <td>0</td>\n",
              "      <td>0</td>\n",
              "      <td>43</td>\n",
              "      <td>United-States</td>\n",
              "      <td>&lt;=50K</td>\n",
              "    </tr>\n",
              "    <tr>\n",
              "      <th>57</th>\n",
              "      <td>35</td>\n",
              "      <td>Private</td>\n",
              "      <td>56352</td>\n",
              "      <td>Assoc-voc</td>\n",
              "      <td>11</td>\n",
              "      <td>Married-civ-spouse</td>\n",
              "      <td>Other-service</td>\n",
              "      <td>Husband</td>\n",
              "      <td>White</td>\n",
              "      <td>Male</td>\n",
              "      <td>0</td>\n",
              "      <td>0</td>\n",
              "      <td>40</td>\n",
              "      <td>Puerto-Rico</td>\n",
              "      <td>&lt;=50K</td>\n",
              "    </tr>\n",
              "    <tr>\n",
              "      <th>90</th>\n",
              "      <td>57</td>\n",
              "      <td>Private</td>\n",
              "      <td>249977</td>\n",
              "      <td>Assoc-voc</td>\n",
              "      <td>11</td>\n",
              "      <td>Married-civ-spouse</td>\n",
              "      <td>Prof-specialty</td>\n",
              "      <td>Husband</td>\n",
              "      <td>White</td>\n",
              "      <td>Male</td>\n",
              "      <td>0</td>\n",
              "      <td>0</td>\n",
              "      <td>40</td>\n",
              "      <td>United-States</td>\n",
              "      <td>&lt;=50K</td>\n",
              "    </tr>\n",
              "  </tbody>\n",
              "</table>\n",
              "</div>"
            ],
            "text/plain": [
              "    age  workclass  fnlwgt  ... hours.per.week         native income\n",
              "14   40    Private  121772  ...             40              ?   >50K\n",
              "48   41  State-gov  101603  ...             40  United-States  <=50K\n",
              "49   29    Private  271466  ...             43  United-States  <=50K\n",
              "57   35    Private   56352  ...             40    Puerto-Rico  <=50K\n",
              "90   57    Private  249977  ...             40  United-States  <=50K\n",
              "\n",
              "[5 rows x 15 columns]"
            ]
          },
          "metadata": {
            "tags": []
          },
          "execution_count": 6
        }
      ]
    },
    {
      "cell_type": "markdown",
      "metadata": {
        "id": "5fC0VahxalxP",
        "colab_type": "text"
      },
      "source": [
        "# Data Preparation"
      ]
    },
    {
      "cell_type": "code",
      "metadata": {
        "id": "sjGMymnPandL",
        "colab_type": "code",
        "colab": {}
      },
      "source": [
        "from sklearn.utils import resample\n",
        "from imblearn.over_sampling import SMOTE\n",
        "\n",
        "# Combine majority class with upsampled minority class\n",
        "dataset.replace(to_replace='?',value=np.nan,inplace=True)\n",
        "dataset.isnull().sum()\n",
        "dataset.dropna(axis=0,inplace=True)\n",
        "dataset_test.replace(to_replace='?',value=np.nan,inplace=True)\n",
        "dataset_test.dropna(axis=0,inplace=True)\n",
        "dataset_test.isnull().sum()\n",
        "dataset['income']=dataset['income'].map({'<=50K': 0, '>50K': 1})\n",
        "dataset_test['income']=dataset_t['income'].map({'<=50K': 0, '>50K': 1, '<=50K.': 0, '>50K.': 1})\n",
        "dataset.isnull().sum().sum()\n",
        "# remove semantic error\n",
        "dataset = dataset.loc[~((dataset.relationship=='Wife') & (dataset.sex == 'Male')), :]\n",
        "dataset = dataset.loc[~(dataset['capital.gain']>40000), :]\n",
        "df_clean = dataset.copy()\n",
        "dft_clean = dataset_test.copy()\n",
        "# prepare dataset manually feature engeneered\n",
        "dataset[\"marital.status\"] = dataset[\"marital.status\"].replace(['Never-married','Divorced','Separated','Widowed'], 'Single')\n",
        "dataset[\"marital.status\"] = dataset[\"marital.status\"].replace(['Married-civ-spouse','Married-spouse-absent','Married-AF-spouse'], 'Married')\n",
        "dataset_test[\"marital.status\"] = dataset_test[\"marital.status\"].replace(['Never-married','Divorced','Separated','Widowed'], 'Single')\n",
        "dataset_test[\"marital.status\"] = dataset_test[\"marital.status\"].replace(['Married-civ-spouse','Married-spouse-absent','Married-AF-spouse'], 'Married')\n",
        "def get_investment(x1,x2):\n",
        "    if x1 != 0 or x2!= 0:\n",
        "      return 1\n",
        "    else:\n",
        "      return 0\n",
        "dataset['capital']=dataset.apply(lambda x: get_investment(x['capital.gain'], x['capital.loss']), axis=1)\n",
        "dataset_test['capital']=dataset_test.apply(lambda x: get_investment(x['capital.gain'], x['capital.loss']), axis=1)\n",
        "dataset_pruned = dataset.drop(['fnlwgt','education', 'occupation', 'native', 'capital.loss', \n",
        "                               'capital.gain','relationship'], axis=1)\n",
        "datasett_pruned = dataset_test.drop(['fnlwgt','education', 'occupation', 'native', 'capital.loss', \n",
        "                               'capital.gain','relationship'], axis=1)\n",
        "le = LabelEncoder()\n",
        "for i in [ 'workclass','marital.status', 'race', 'sex']:\n",
        "    dataset_pruned[i]=le.fit_transform(dataset_pruned[i])\n",
        "    datasett_pruned[i]=le.transform(datasett_pruned[i])\n",
        "\n",
        "dataset_test.dropna(axis=0,inplace=True)\n",
        "#prepare dataset with all features\n",
        "for i in cate_features:\n",
        "    df_clean[i]=le.fit_transform(df_clean[i])\n",
        "    dft_clean[i]=le.transform(dft_clean[i])\n",
        "\n",
        "\n",
        "df_majority = df_clean[df_clean.income==0]\n",
        "df_minority = df_clean[df_clean.income==1]\n",
        " \n",
        "# Upsample minority class\n",
        "df_minority_upsampled = resample(df_minority, \n",
        "                                 replace=True,     # sample with replacement\n",
        "                                 n_samples=len(df_majority),    # to match majority class\n",
        "                                 random_state=123) # reproducible results\n",
        "# Combine majority class with upsampled minority class\n",
        "dfu_clean = pd.concat([df_majority, df_minority_upsampled])\n"
      ],
      "execution_count": null,
      "outputs": []
    },
    {
      "cell_type": "markdown",
      "metadata": {
        "id": "HTFQo36SQH55",
        "colab_type": "text"
      },
      "source": [
        "# Data Exploration\n",
        " - label count\n",
        " - age and income\n",
        " - sex and income\n",
        " - education and income\n",
        " - race and income\n",
        " - race-education and income\n",
        " - sex-marital status and income"
      ]
    },
    {
      "cell_type": "code",
      "metadata": {
        "id": "yYXVpEG3S36d",
        "colab_type": "code",
        "colab": {
          "base_uri": "https://localhost:8080/",
          "height": 297
        },
        "outputId": "76a805ce-41c8-449b-c627-5f2912c017e4"
      },
      "source": [
        "from scipy.stats import chi2_contingency, chi2, ttest_ind\n",
        "from scipy import stats\n",
        "import random\n",
        "\n",
        "sns.countplot(dataset['income'],label=\"Count\")\n",
        "plt.show()\n",
        "# education is for sure a factor\n",
        "g = sns.catplot(x=\"education.num\",y=\"income\",data=dataset,kind=\"bar\",aspect=2,height= 5,palette = \"muted\")\n",
        "g.despine(left=True)\n",
        "g = g.set_ylabels(\">50K probability\")\n",
        "\n",
        "# Age is a factor\n",
        "sns.boxplot(y='hours.per.week',x='income',data=dataset)\n",
        "sns.boxplot(y='age',x='income',data=dataset)\n",
        "\n",
        "# Race is a factor\n",
        "g = sns.catplot(x=\"race\",y=\"income\",data=dataset,kind=\"bar\",height= 6,aspect=1.2,palette = \"muted\")\n",
        "g.despine(left=True)\n",
        "g = g.set_ylabels(\">50K probability\")\n",
        "\n",
        "# Race given an higher level of education\n",
        "g = sns.catplot(x=\"race\",y=\"income\",data=dataset[dataset['education.num']>11],aspect=1.2,kind=\"bar\",height= 6,palette = \"muted\")\n",
        "g.despine(left=True)\n",
        "#g.set(ylim=(0, 0.3))\n",
        "g = g.set_ylabels(\">50K probability\")\n",
        "\n",
        "plt.figure(figsize=(10,7))\n",
        "sns.boxplot(x=\"income\", y=\"fnlwgt\", data=dataset)\n",
        "plt.show()\n",
        "\n",
        "data = dataset[(np.abs(stats.zscore(dataset[\"fnlwgt\"])) < 3)] \n",
        "\n",
        "income_1 = data[data['income']==1][\"fnlwgt\"]\n",
        "income_0 = data[data['income']==0][\"fnlwgt\"]\n",
        "\n",
        "income_0 = income_0.values.tolist()\n",
        "income_0 = random.sample(income_0, 100)\n",
        "income_1 = income_1.values.tolist()\n",
        "income_1 = random.sample(income_1, 100)\n",
        "\n",
        "ttest,pval = ttest_ind(income_1,income_0,equal_var = False)\n",
        "print(\"ttest\",ttest)\n",
        "print(\"p-value\",pval)\n",
        "\n",
        "if pval <0.05:\n",
        "    print(\"we reject null hypothesis\")\n",
        "else:\n",
        "    print(\"we accept null hypothesis\")\n",
        "\n",
        "# Sex is a factor\n",
        "g = sns.catplot(x=\"sex\",y=\"income\",data=dataset,kind=\"bar\",aspect=1.2,height= 6,palette = \"muted\")\n",
        "g.despine(left=True)\n",
        "g = g.set_ylabels(\">50K probability\")\n",
        "f, axes = plt.subplots(2, 2, figsize=(7, 7), sharex=True)\n",
        "\n",
        "sns.boxplot(y='capital.gain',x='income',data=dataset)\n",
        "\n",
        "# Sex given education\n",
        "g = sns.catplot(x=\"sex\",y=\"income\",data=dataset[dataset['education.num']>11],aspect=1.2,kind=\"bar\",height= 6,palette = \"muted\")\n",
        "g.despine(left=True)\n",
        "g = g.set_ylabels(\">50K probability\")\n",
        "# Relationship the no-child factor\n",
        "g= sns.catplot(x=\"relationship\",y=\"income\",hue='sex',aspect=1.5, data=dataset,kind=\"bar\")\n",
        "g.set_ylabels(\">50K probability\")\n",
        "g = sns.catplot(x=\"marital.status\",y=\"income\",hue='sex',aspect=1.5, data=dataset,kind=\"bar\")\n",
        "g.set_ylabels(\">50K probability\")\n",
        "\n",
        "fig, (a,b)= plt.subplots(1,2,figsize=(20,6))\n",
        "sns.catplot(y='hours.per.week',x='income',data=dataset,ax=a)\n",
        "sns.boxplot(y='age',x='income',data=dataset,ax=b)\n",
        "print(dataset.loc[dataset.income==0, ['capital.gain']].mean())\n",
        "print(dataset.loc[dataset.income==1, ['capital.gain']].mean())\n",
        "print(dataset.loc[dataset.income==0, ['capital.gain']].median())\n",
        "print(dataset.loc[dataset.income==1, ['capital.gain']].median())\n",
        "\n",
        "\n",
        "g = sns.catplot(x=\"capital\",y=\"income\", data=dataset,kind=\"bar\",height= 6,palette = \"muted\")\n",
        "g.despine(left=True)\n",
        "g = g.set_ylabels(\">50K probability\")\n",
        "\n",
        "g = sns.catplot(x=\"workclass\",y=\"income\",data=dataset,kind=\"bar\",height= 6, aspect=2,palette = \"muted\")\n",
        "g.despine(left=True)\n",
        "g = g.set_ylabels(\">50K probability\")\n",
        "\n",
        "g = sns.catplot(x=\"occupation\",y=\"income\",data=dataset,kind=\"bar\",height= 6, aspect=3,palette = \"muted\")\n",
        "g.despine(left=True)\n",
        "g = g.set_ylabels(\">50K probability\")\n",
        "\n",
        "dataset.loc[dataset['native']!='United-States','native'] = 'non_usa'\n",
        "g = sns.catplot(x=\"native\",y=\"income\",data=dataset,kind=\"bar\",height= 6, aspect=3,palette = \"muted\")\n",
        "g.despine(left=True)\n",
        "g = g.set_ylabels(\">50K probability\")\n",
        "\n",
        "\n",
        "\n",
        "corr=dataset[numeric_features].corr()\n",
        "fig, ax = plt.subplots(figsize=(15,15))         # Sample figsize in inches\n",
        "sns.heatmap(corr, annot=True, linewidths=.5, ax=ax)"
      ],
      "execution_count": null,
      "outputs": [
        {
          "output_type": "execute_result",
          "data": {
            "text/plain": [
              "<matplotlib.axes._subplots.AxesSubplot at 0x7f48e187dc88>"
            ]
          },
          "metadata": {
            "tags": []
          },
          "execution_count": 25
        },
        {
          "output_type": "display_data",
          "data": {
            "image/png": "[encoded data removed]",
            "text/plain": [
              "<Figure size 432x288 with 1 Axes>"
            ]
          },
          "metadata": {
            "tags": [],
            "needs_background": "light"
          }
        }
      ]
    },
    {
      "cell_type": "code",
      "metadata": {
        "id": "7n0YSI7zqkTJ",
        "colab_type": "code",
        "colab": {}
      },
      "source": [
        "import matplotlib.pyplot as plt\n",
        "from matplotlib.colors import ListedColormap, Normalize\n",
        "from matplotlib.ticker import FormatStrFormatter, StrMethodFormatter\n",
        "import numpy as np\n",
        "\n",
        "def plot_grid_search(cv_results, grid_param_1, grid_param_2, name_param_1, name_param_2, log=False):\n",
        "    # Get Test Scores Mean and std for each grid search\n",
        "    scores_mean = cv_results['mean_test_score']\n",
        "    scores_mean = np.array(scores_mean).reshape(len(grid_param_2),len(grid_param_1))\n",
        "\n",
        "    scores_sd = cv_results['std_test_score']\n",
        "    scores_sd = np.array(scores_sd).reshape(len(grid_param_2),len(grid_param_1))\n",
        "\n",
        "    # Plot Grid search scores\n",
        "    _, ax = plt.subplots(1,1)\n",
        "\n",
        "    # Param1 is the X-axis, Param 2 is represented as a different curve (color line)\n",
        "    for idx, val in enumerate(grid_param_2):\n",
        "        ax.plot(grid_param_1, scores_mean[idx,:], '-o', label= name_param_2 + ': ' + str(val))\n",
        "\n",
        "    ax.set_xlabel(name_param_1, fontsize=16)\n",
        "    ax.set_ylabel('CV Average Score', fontsize=16)\n",
        "    if log:\n",
        "      plt.xscale('log')\n",
        "    ax.legend(loc='upper center', bbox_to_anchor=(1.45, 0.8), shadow=True, ncol=1)\n",
        "    ax.grid('on')\n"
      ],
      "execution_count": null,
      "outputs": []
    },
    {
      "cell_type": "markdown",
      "metadata": {
        "id": "9NyLKcdGNxjM",
        "colab_type": "text"
      },
      "source": [
        "#Models"
      ]
    },
    {
      "cell_type": "code",
      "metadata": {
        "id": "vVbLs3dUN0CY",
        "colab_type": "code",
        "colab": {
          "base_uri": "https://localhost:8080/",
          "height": 110
        },
        "outputId": "e7422b18-d5e1-49aa-f984-8cb4af870ee5"
      },
      "source": [
        "from sklearn.decomposition import PCA\n",
        "from sklearn.preprocessing import StandardScaler\n",
        "from imblearn.over_sampling import SMOTE\n",
        "from sklearn.linear_model import LogisticRegression\n",
        "from sklearn.metrics import confusion_matrix, classification_report,recall_score, accuracy_score\n",
        "from sklearn import svm\n",
        "from sklearn.neighbors import KNeighborsClassifier\n",
        "from sklearn.model_selection import train_test_split, GridSearchCV,KFold,cross_val_score\n",
        "from sklearn.ensemble import RandomForestClassifier\n",
        "from sklearn.naive_bayes import MultinomialNB\n",
        "from sklearn.preprocessing import MinMaxScaler\n",
        "\n",
        "#12 components express 90% variance\n",
        "scaler = StandardScaler()\n",
        "pca = PCA(n_components=8)\n",
        "\n",
        "X_train = df_clean.drop('income', axis=1)\n",
        "X_train=scaler.fit_transform(X_train)\n",
        "y_train = df_clean.loc[:,'income']\n",
        "\n",
        "X_test = dft_clean.drop('income', axis=1)\n",
        "X_test= scaler.transform(X_test)\n",
        "y_test = dft_clean.loc[:,'income']\n",
        "\n",
        "Xpca_train = pca.fit_transform(X_train)\n",
        "pca.explained_variance_ratio_\n",
        "ypca_train = y_train\n",
        "\n",
        "Xpca_test = pca.transform(X_test)\n",
        "pca.explained_variance_ratio_\n",
        "ypca_test = y_test\n",
        "\n",
        "Xp_train = dataset_pruned.drop('income', axis=1)\n",
        "Xp_train=scaler.fit_transform(Xp_train)\n",
        "yp_train = dataset_pruned.loc[:,'income']\n",
        "\n",
        "Xp_test = datasett_pruned.drop('income', axis=1)\n",
        "Xp_test= scaler.transform(Xp_test)\n",
        "yp_test = datasett_pruned.loc[:,'income']\n",
        "sum(~np.isnan(Xp_test))\n",
        "oversample = SMOTE()\n",
        "Xspca_train, yspca_train = oversample.fit_resample(Xpca_train, ypca_train)\n",
        "\n",
        "Xsp_train, ysp_train = oversample.fit_resample(Xp_train, yp_train)\n"
      ],
      "execution_count": null,
      "outputs": [
        {
          "output_type": "stream",
          "text": [
            "/usr/local/lib/python3.6/dist-packages/sklearn/utils/deprecation.py:87: FutureWarning: Function safe_indexing is deprecated; safe_indexing is deprecated in version 0.22 and will be removed in version 0.24.\n",
            "  warnings.warn(msg, category=FutureWarning)\n",
            "/usr/local/lib/python3.6/dist-packages/sklearn/utils/deprecation.py:87: FutureWarning: Function safe_indexing is deprecated; safe_indexing is deprecated in version 0.22 and will be removed in version 0.24.\n",
            "  warnings.warn(msg, category=FutureWarning)\n"
          ],
          "name": "stderr"
        }
      ]
    },
    {
      "cell_type": "code",
      "metadata": {
        "id": "YkjW2jxteVWZ",
        "colab_type": "code",
        "colab": {
          "base_uri": "https://localhost:8080/",
          "height": 938
        },
        "outputId": "3d4b1ee3-f7e6-43d6-8ed3-2d6dec7cd1a4"
      },
      "source": [
        "# model comparison\n",
        "seed = 7\n",
        "num_folds = 10\n",
        "data = []\n",
        "data.append(('all',X_train, y_train))\n",
        "data.append(('pca',Xpca_train, ypca_train))\n",
        "data.append(('pca_oversampling', Xspca_train, yspca_train))\n",
        "data.append(('manually_pruned', Xp_train, yp_train))\n",
        "data.append(('manual_prun_over', Xsp_train, ysp_train))\n",
        "#data.append(('pca_resample', Xupca_train, yu_train))\n",
        "#models.append(('SVM', svm.SVC(), {'C': Cs}))\n",
        "# evalutate each model in turn\n",
        "results = []\n",
        "names = []\n",
        "for name, X_train,Y_train in data:\n",
        "    model = LogisticRegression(C=10)\n",
        "    kfold = KFold(n_splits=10)\n",
        "    cv_results = cross_val_score(model, X_train, Y_train, cv=kfold, scoring='recall')\n",
        "    results.append(cv_results)\n",
        "    names.append(name)\n",
        "    msg = \"%s: %f (%f)\" % (name, cv_results.mean(), cv_results.std())\n",
        "    print(msg)\n",
        "\n",
        "fig = plt.figure(figsize=(20,10))\n",
        "fig.suptitle('Feature selection Comparison')\n",
        "ax = fig.add_subplot(111)\n",
        "plt.ylabel(\"recall values with KFold\")\n",
        "plt.boxplot(results)\n",
        "ax.set_xticklabels(names)\n",
        "plt.show()"
      ],
      "execution_count": null,
      "outputs": [
        {
          "output_type": "stream",
          "text": [
            "all: 0.460100 (0.016514)\n",
            "pca: 0.408068 (0.021238)\n",
            "pca_oversampling: 0.780571 (0.036358)\n",
            "manually_pruned: 0.546739 (0.015683)\n",
            "manual_prun_over: 0.823961 (0.027971)\n"
          ],
          "name": "stdout"
        },
        {
          "output_type": "stream",
          "text": [
            "/usr/local/lib/python3.6/dist-packages/sklearn/metrics/_classification.py:1272: UndefinedMetricWarning: Recall is ill-defined and being set to 0.0 due to no true samples. Use `zero_division` parameter to control this behavior.\n",
            "  _warn_prf(average, modifier, msg_start, len(result))\n",
            "/usr/local/lib/python3.6/dist-packages/sklearn/metrics/_classification.py:1272: UndefinedMetricWarning: Recall is ill-defined and being set to 0.0 due to no true samples. Use `zero_division` parameter to control this behavior.\n",
            "  _warn_prf(average, modifier, msg_start, len(result))\n",
            "/usr/local/lib/python3.6/dist-packages/sklearn/metrics/_classification.py:1272: UndefinedMetricWarning: Recall is ill-defined and being set to 0.0 due to no true samples. Use `zero_division` parameter to control this behavior.\n",
            "  _warn_prf(average, modifier, msg_start, len(result))\n",
            "/usr/local/lib/python3.6/dist-packages/sklearn/metrics/_classification.py:1272: UndefinedMetricWarning: Recall is ill-defined and being set to 0.0 due to no true samples. Use `zero_division` parameter to control this behavior.\n",
            "  _warn_prf(average, modifier, msg_start, len(result))\n"
          ],
          "name": "stderr"
        },
        {
          "output_type": "stream",
          "text": [
            "pca_resample: 0.461431 (0.385180)\n"
          ],
          "name": "stdout"
        },
        {
          "output_type": "display_data",
          "data": {
            "image/png": "[encoded data removed]",
            "text/plain": [
              "<Figure size 1440x720 with 1 Axes>"
            ]
          },
          "metadata": {
            "tags": [],
            "needs_background": "light"
          }
        }
      ]
    },
    {
      "cell_type": "code",
      "metadata": {
        "id": "_ywaFX3J22F4",
        "colab_type": "code",
        "colab": {
          "base_uri": "https://localhost:8080/",
          "height": 515
        },
        "outputId": "8bf009ab-b5ef-4a48-c3a3-e73781b45b49"
      },
      "source": [
        "# baseline KNN\n",
        "accuracies=[]\n",
        "recalls=[]\n",
        "ks = range(3,20,3)\n",
        "param =  {'n_neighbors': ks}\n",
        "clf = GridSearchCV(KNeighborsClassifier(), param_grid = param, cv = 5, verbose=True, n_jobs=-1, scoring='recall')\n",
        "clf.fit(Xsp_train, ysp_train)\n",
        "plt.plot(ks, clf.cv_results_['mean_test_score'])\n",
        "plt.xlabel('Cs')\n",
        "plt.ylabel('Average CV Recall')\n",
        "plt.show()\n",
        "print(\"Best model on training set has %r with accuracy %.4f\" %(clf.best_params_, clf.best_score_))\n",
        "y_true, y1_pred = yp_test, clf.predict(Xp_test)\n",
        "print(classification_report(y_true, y1_pred))\n",
        "accuracies.append(accuracy_score(y_true, y_pred))\n",
        "recalls.append(recall_score(y_true, y_pred,average='macro'))"
      ],
      "execution_count": null,
      "outputs": [
        {
          "output_type": "stream",
          "text": [
            "Fitting 5 folds for each of 6 candidates, totalling 30 fits\n"
          ],
          "name": "stdout"
        },
        {
          "output_type": "stream",
          "text": [
            "[Parallel(n_jobs=-1)]: Using backend LokyBackend with 2 concurrent workers.\n",
            "[Parallel(n_jobs=-1)]: Done  30 out of  30 | elapsed:   51.5s finished\n"
          ],
          "name": "stderr"
        },
        {
          "output_type": "display_data",
          "data": {
            "image/png": "[encoded data removed]",
            "text/plain": [
              "<Figure size 432x288 with 1 Axes>"
            ]
          },
          "metadata": {
            "tags": [],
            "needs_background": "light"
          }
        },
        {
          "output_type": "stream",
          "text": [
            "Best model on training set has {'n_neighbors': 15} with accuracy 0.8548\n",
            "              precision    recall  f1-score   support\n",
            "\n",
            "           0       0.91      0.78      0.84     11360\n",
            "           1       0.54      0.78      0.63      3700\n",
            "\n",
            "    accuracy                           0.78     15060\n",
            "   macro avg       0.73      0.78      0.74     15060\n",
            "weighted avg       0.82      0.78      0.79     15060\n",
            "\n"
          ],
          "name": "stdout"
        }
      ]
    },
    {
      "cell_type": "code",
      "metadata": {
        "id": "fY9TOXLrgilY",
        "colab_type": "code",
        "colab": {
          "base_uri": "https://localhost:8080/",
          "height": 537
        },
        "outputId": "44377a31-fe48-4091-bf2e-c5fe3c41bbe3"
      },
      "source": [
        "# baseline Logistic Regression\n",
        "Cs = [0.1, 1, 10, 100, 1000]\n",
        "param =  {'C': Cs}\n",
        "clf = GridSearchCV(LogisticRegression(), param_grid = param, cv = 5, verbose=True, n_jobs=-1, scoring='recall')\n",
        "clf.fit(Xsp_train, ysp_train)\n",
        "plt.plot(Cs, clf.cv_results_['mean_test_score'])\n",
        "plt.xlabel('Cs')\n",
        "plt.xscale('log')\n",
        "plt.ylabel('Average CV Recall')\n",
        "plt.show()\n",
        "print(\"Best model with upsampling on training set has %r with accuracy %.4f\" %(clf.best_params_, clf.best_score_))\n",
        "y_true, y1_pred = yp_test, clf.predict(Xp_test)\n",
        "print(classification_report(y_true, y1_pred))\n",
        "accuracies.append(accuracy_score(y_true, y_pred))\n",
        "recalls.append(recall_score(y_true, y_pred,average='macro'))"
      ],
      "execution_count": null,
      "outputs": [
        {
          "output_type": "stream",
          "text": [
            "Fitting 5 folds for each of 5 candidates, totalling 25 fits\n"
          ],
          "name": "stdout"
        },
        {
          "output_type": "stream",
          "text": [
            "[Parallel(n_jobs=-1)]: Using backend LokyBackend with 2 concurrent workers.\n",
            "[Parallel(n_jobs=-1)]: Done  22 out of  25 | elapsed:    1.1s remaining:    0.2s\n",
            "[Parallel(n_jobs=-1)]: Done  25 out of  25 | elapsed:    1.2s finished\n"
          ],
          "name": "stderr"
        },
        {
          "output_type": "display_data",
          "data": {
            "image/png": "[encoded data removed]",
            "text/plain": [
              "<Figure size 432x288 with 1 Axes>"
            ]
          },
          "metadata": {
            "tags": [],
            "needs_background": "light"
          }
        },
        {
          "output_type": "stream",
          "text": [
            "Best model with upsampling on training set has {'C': 0.1} with accuracy 0.8262\n",
            "              precision    recall  f1-score   support\n",
            "\n",
            "           0       0.93      0.77      0.85     11360\n",
            "           1       0.54      0.83      0.66      3700\n",
            "\n",
            "    accuracy                           0.79     15060\n",
            "   macro avg       0.74      0.80      0.75     15060\n",
            "weighted avg       0.84      0.79      0.80     15060\n",
            "\n"
          ],
          "name": "stdout"
        }
      ]
    },
    {
      "cell_type": "code",
      "metadata": {
        "id": "Q5LD-1W4mXnZ",
        "colab_type": "code",
        "colab": {
          "base_uri": "https://localhost:8080/",
          "height": 541
        },
        "outputId": "b4805a50-50a6-4a68-add1-0662f3ae9336"
      },
      "source": [
        "# Random Forest\n",
        "n_estimators = list(range(10,101,20))\n",
        "#max_features = list(range(6,32,5))\n",
        "max_depth = list(range(6,32,5))\n",
        "#param_grid = {'n_estimators': n_estimators, 'max_features' : max_features}\n",
        "param_grid = {'n_estimators': n_estimators, 'max_depth' : max_depth}\n",
        "clf_for = GridSearchCV(RandomForestClassifier(), param_grid = param_grid, cv = 5, verbose=True, n_jobs=-1, scoring = 'recall')\n",
        "    \n",
        "clf_for.fit(Xsp_train, ysp_train)\n",
        "\n",
        "#plot_grid_search(clf_for.cv_results_, n_estimators, max_features, \"n_estimators\", \"max_features\")\n",
        "plot_grid_search(clf_for.cv_results_, n_estimators, max_depth, \"n_estimators\", \"max_depth\")\n",
        "\n",
        "print(\"Best model on training set has %r with accuracy %.4f\" %(clf.best_params_, clf.best_score_))\n",
        "y_true, y_pred = yp_test, clf_for.predict(Xp_test)\n",
        "print(classification_report(y_true, y_pred))\n",
        "accuracies.append(accuracy_score(y_true, y_pred))\n",
        "recalls.append(recall_score(y_true, y_pred, average='macro'))"
      ],
      "execution_count": null,
      "outputs": [
        {
          "output_type": "stream",
          "text": [
            "Fitting 5 folds for each of 30 candidates, totalling 150 fits\n"
          ],
          "name": "stdout"
        },
        {
          "output_type": "stream",
          "text": [
            "[Parallel(n_jobs=-1)]: Using backend LokyBackend with 2 concurrent workers.\n",
            "[Parallel(n_jobs=-1)]: Done  46 tasks      | elapsed:   31.2s\n",
            "[Parallel(n_jobs=-1)]: Done 150 out of 150 | elapsed:  2.6min finished\n"
          ],
          "name": "stderr"
        },
        {
          "output_type": "stream",
          "text": [
            "Best model on training set has {'C': 0.1} with accuracy 0.8262\n",
            "              precision    recall  f1-score   support\n",
            "\n",
            "           0       0.92      0.81      0.86     11360\n",
            "           1       0.57      0.79      0.66      3700\n",
            "\n",
            "    accuracy                           0.80     15060\n",
            "   macro avg       0.74      0.80      0.76     15060\n",
            "weighted avg       0.83      0.80      0.81     15060\n",
            "\n"
          ],
          "name": "stdout"
        },
        {
          "output_type": "display_data",
          "data": {
            "image/png": "[encoded data removed]",
            "text/plain": [
              "<Figure size 432x288 with 1 Axes>"
            ]
          },
          "metadata": {
            "tags": [],
            "needs_background": "light"
          }
        }
      ]
    },
    {
      "cell_type": "code",
      "metadata": {
        "id": "GixTzrZusUF5",
        "colab_type": "code",
        "colab": {
          "base_uri": "https://localhost:8080/",
          "height": 555
        },
        "outputId": "c9b44f36-bd36-4859-87ec-4a2503036c3e"
      },
      "source": [
        "mm = MinMaxScaler()\n",
        "alphas = [0, 0.001, 0.1,  0.3, 0.5, 0.7, 1]\n",
        "Xmm_train = mm.fit_transform(Xsp_train)\n",
        "Xmm_test = mm.transform(Xp_test)\n",
        "param_grid = {'alpha': alphas}\n",
        "\n",
        "clf_nai = GridSearchCV(MultinomialNB(), param_grid = param_grid, cv = 5, verbose=True, n_jobs=-1, scoring='recall')\n",
        "    \n",
        "clf_nai.fit(Xmm_train, ysp_train)\n",
        "\n",
        "plt.plot(alphas, clf_nai.cv_results_['mean_test_score'])\n",
        "plt.xlabel('Alpha')\n",
        "plt.ylabel('Average CV Accuracy')\n",
        "plt.show()\n",
        "\n",
        "print(\"Best model on training set has %r with recall %.4f\" %(clf_nai.best_params_, clf_nai.best_score_))\n",
        "y_true, y_pred = yp_test, clf_nai.predict(Xmm_test)\n",
        "print(classification_report(y_true, y_pred))\n",
        "accuracies.append(accuracy_score(y_true, y_pred))\n",
        "recalls.append(recall_score(y_true, y_pred, average='macro'))"
      ],
      "execution_count": null,
      "outputs": [
        {
          "output_type": "stream",
          "text": [
            "Fitting 5 folds for each of 7 candidates, totalling 35 fits\n"
          ],
          "name": "stdout"
        },
        {
          "output_type": "stream",
          "text": [
            "[Parallel(n_jobs=-1)]: Using backend LokyBackend with 2 concurrent workers.\n",
            "[Parallel(n_jobs=-1)]: Done  35 out of  35 | elapsed:    0.5s finished\n",
            "/usr/local/lib/python3.6/dist-packages/sklearn/naive_bayes.py:507: UserWarning: alpha too small will result in numeric errors, setting alpha = 1.0e-10\n",
            "  'setting alpha = %.1e' % _ALPHA_MIN)\n"
          ],
          "name": "stderr"
        },
        {
          "output_type": "display_data",
          "data": {
            "image/png": "[encoded data removed]",
            "text/plain": [
              "<Figure size 432x288 with 1 Axes>"
            ]
          },
          "metadata": {
            "tags": [],
            "needs_background": "light"
          }
        },
        {
          "output_type": "stream",
          "text": [
            "Best model on training set has {'alpha': 0} with recall 0.8914\n",
            "              precision    recall  f1-score   support\n",
            "\n",
            "           0       0.95      0.63      0.75     11360\n",
            "           1       0.44      0.90      0.59      3700\n",
            "\n",
            "    accuracy                           0.69     15060\n",
            "   macro avg       0.69      0.76      0.67     15060\n",
            "weighted avg       0.82      0.69      0.71     15060\n",
            "\n"
          ],
          "name": "stdout"
        }
      ]
    },
    {
      "cell_type": "code",
      "metadata": {
        "id": "p1uhLEkYy3uE",
        "colab_type": "code",
        "colab": {
          "base_uri": "https://localhost:8080/",
          "height": 839
        },
        "outputId": "802dd4b6-bf21-44b1-d269-f9bab6d93e44"
      },
      "source": [
        "Cs = [0.1, 1, 10]\n",
        "kernels=['linear','rbf']\n",
        "param_grid = {'kernel': kernels, 'C': Cs}\n",
        "clf_svm = GridSearchCV(svm.SVC(), param_grid = param_grid, cv = 2, verbose=True, n_jobs=-1, scoring = 'recall')\n",
        "    \n",
        "clf_svm.fit(Xsp_train, ysp_train)\n",
        "\n",
        "plt.plot(Cs, clf_svm.cv_results_['mean_test_score'][:3], label='linear')\n",
        "plt.plot(Cs, clf_svm.cv_results_['mean_test_score'][3:6], label='rbf')\n",
        "plt.xlabel('Cs')\n",
        "plt.legend()\n",
        "plt.ylabel('Average CV Recall')\n",
        "plt.show()\n",
        "#plot_grid_search(clf_for.cv_results_, n_estimators, max_features, \"n_estimators\", \"max_features\")\n",
        "plot_grid_search(clf_svm.cv_results_, kernels, Cs, \"kernels\", \"C\")\n",
        "\n",
        "print(\"Best model on training set has %r with accuracy %.4f\" %(clf_svm.best_params_, clf_svm.best_score_))\n",
        "y_true, y_pred = yp_test, clf_svm.predict(Xp_test)\n",
        "print(classification_report(y_true, y_pred))\n",
        "accuracies.append(accuracy_score(y_true, y_pred))\n",
        "recalls.append(recall_score(y_true, y_pred,average='macro'))"
      ],
      "execution_count": null,
      "outputs": [
        {
          "output_type": "stream",
          "text": [
            "Fitting 2 folds for each of 6 candidates, totalling 12 fits\n"
          ],
          "name": "stdout"
        },
        {
          "output_type": "stream",
          "text": [
            "[Parallel(n_jobs=-1)]: Using backend LokyBackend with 2 concurrent workers.\n",
            "/usr/local/lib/python3.6/dist-packages/joblib/externals/loky/process_executor.py:691: UserWarning: A worker stopped while some jobs were given to the executor. This can be caused by a too short worker timeout or by a memory leak.\n",
            "  \"timeout or by a memory leak.\", UserWarning\n",
            "[Parallel(n_jobs=-1)]: Done  12 out of  12 | elapsed:  3.3min finished\n"
          ],
          "name": "stderr"
        },
        {
          "output_type": "display_data",
          "data": {
            "image/png": "[encoded data removed]",
            "text/plain": [
              "<Figure size 432x288 with 1 Axes>"
            ]
          },
          "metadata": {
            "tags": [],
            "needs_background": "light"
          }
        },
        {
          "output_type": "stream",
          "text": [
            "Best model on training set has {'C': 10, 'kernel': 'rbf'} with accuracy 0.8887\n",
            "              precision    recall  f1-score   support\n",
            "\n",
            "           0       0.94      0.74      0.83     11360\n",
            "           1       0.52      0.86      0.65      3700\n",
            "\n",
            "    accuracy                           0.77     15060\n",
            "   macro avg       0.73      0.80      0.74     15060\n",
            "weighted avg       0.84      0.77      0.79     15060\n",
            "\n"
          ],
          "name": "stdout"
        },
        {
          "output_type": "display_data",
          "data": {
            "image/png": "[encoded data removed]",
            "text/plain": [
              "<Figure size 432x288 with 1 Axes>"
            ]
          },
          "metadata": {
            "tags": [],
            "needs_background": "light"
          }
        }
      ]
    },
    {
      "cell_type": "markdown",
      "metadata": {
        "id": "6jhutQKny6rd",
        "colab_type": "text"
      },
      "source": [
        "# Tests"
      ]
    },
    {
      "cell_type": "code",
      "metadata": {
        "id": "Uoq0U-w8avkO",
        "colab_type": "code",
        "colab": {
          "base_uri": "https://localhost:8080/",
          "height": 336
        },
        "outputId": "a58e22e4-f4ea-4a41-f9a8-55dc3a674cbc"
      },
      "source": [
        "# Setting the positions and width for the bars\n",
        "pos = list(range(len(accuracies))) \n",
        "width = 0.25 \n",
        "    \n",
        "# Plotting the bars\n",
        "fig, ax = plt.subplots(figsize=(10,5))\n",
        "\n",
        "# Create a bar with pre_score data,\n",
        "# in position pos,\n",
        "plt.bar(pos, \n",
        "        #using df['pre_score'] data,\n",
        "        accuracies, \n",
        "        # of width\n",
        "        width, \n",
        "        # with alpha 0.5\n",
        "        alpha=0.5, \n",
        "        # with color\n",
        "        color='#EE3224', \n",
        "        # with label the first value in first_name\n",
        "        label=\"Acc#uracy\") \n",
        "\n",
        "# Create a bar with mid_score data,\n",
        "# in position pos + some width buffer,\n",
        "plt.bar([p + width for p in pos], \n",
        "        #using df['mid_score'] data,\n",
        "        recalls,\n",
        "        # of width\n",
        "        width, \n",
        "        # with alpha 0.5\n",
        "        alpha=0.5, \n",
        "        # with color\n",
        "        color='#F78F1E', \n",
        "        # with label the second value in first_name\n",
        "        label=\"Recall\") \n",
        "\n",
        "# Set the y axis label\n",
        "ax.set_ylabel('% achieved on test set')\n",
        "\n",
        "# Set the chart's title\n",
        "ax.set_title('Models')\n",
        "\n",
        "# Set the position of the x ticks\n",
        "ax.set_xticks([p+ 0.5 * width for p in pos])\n",
        "\n",
        "# Set the labels for the x ticks\n",
        "ax.set_xticklabels([\"KNN\",\"Logistic Regression\",\"Random Forest\", \"Naive-Bayes\", \"SVM\"])\n",
        "\n",
        "# Setting the x-axis and y-axis limits\n",
        "plt.xlim(min(pos)-width, max(pos)+width*4)\n",
        "plt.ylim([0.65, max(accuracies + recalls)+0.02] )\n",
        "\n",
        "# Adding the legend and showing the plot\n",
        "plt.legend(['Accuracy', 'Recall'] ,loc='upper right')\n",
        "plt.grid()\n",
        "plt.show()"
      ],
      "execution_count": null,
      "outputs": [
        {
          "output_type": "display_data",
          "data": {
            "image/png": "[encoded data removed]",
            "text/plain": [
              "<Figure size 720x360 with 1 Axes>"
            ]
          },
          "metadata": {
            "tags": [],
            "needs_background": "light"
          }
        }
      ]
    }
  ]
}